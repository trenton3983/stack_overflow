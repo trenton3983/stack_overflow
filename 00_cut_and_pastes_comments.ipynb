{
 "cells": [
  {
   "cell_type": "markdown",
   "metadata": {},
   "source": [
    "# Document Revisions\n",
    "\n",
    "- 2022-11-23 removed phrases that might be triggering or inaccurate\n",
    "  - What have you tried? - Apparently people don't want to be called on their lazy questions, however, **you're expected to follow [How much research effort is expected of Stack Overflow users?](https://meta.stackoverflow.com/a/261593/7758804) and show your effort**, as specified in this linked answer from [SO Help Center](https://stackoverflow.com/help).\n",
    "  - SO is not a coding service. - Clearly, it's a coding service, because we write code for you. What I mean, is we aren't here to do your homework, or code your project."
   ]
  },
  {
   "cell_type": "markdown",
   "metadata": {},
   "source": [
    "# Answer Revision Comments\n",
    "\n",
    "- ... is in the tags, so it's not needed in the title as per https://meta.stackexchange.com/help/tagging\n",
    "- .../... are in the tags, so they're not needed in the title as per https://meta.stackexchange.com/help/tagging\n",
    "- Removed ? because the title is not a question; it's missing an auxiliary verb (e.g. How do I ...?)\n",
    "- As per https://stackoverflow.com/help/behavior, do not use signature, taglines, greetings, thanks, or other chitchat."
   ]
  },
  {
   "cell_type": "markdown",
   "metadata": {
    "tags": []
   },
   "source": [
    "# Voting & Accepting Answers"
   ]
  },
  {
   "cell_type": "markdown",
   "metadata": {},
   "source": [
    "Please review #3 of [Creating Effective Stack Overflow Questions](https://trenton3983.github.io/files/Creating_Effective_StackOverflow_Questions.html) and [edit] the question. If we can't copy, paste, and run the code, then it's not a **complete** [mre]."
   ]
  },
  {
   "cell_type": "markdown",
   "metadata": {},
   "source": [
    "FYI: Thoroughly answering questions is time-consuming. If your question is **solved**, say thank you by _**accepting** the solution that is **best for your needs**._ The **✔** is below the **▲/▼** arrow, at the top left of the answer. A new solution can be accepted if a better one shows up. You may also vote on the usefulness of an answer with the **▲/▼** arrow, if you have a 15+ reputation. **Leave a comment if a solution doesn't answer the question.** [What should I do when someone answers my question?](https://stackoverflow.com/help/someone-answers). Thank you."
   ]
  },
  {
   "cell_type": "markdown",
   "metadata": {},
   "source": [
    "Hopefully the answer is helpful. Thoroughly answering questions is time-consuming. If your question is **solved**, please _**accept** the solution_. The **✔** is below the **▲/▼** arrow, at the top left of the answer. A new solution can be accepted if a better one shows up. You may also vote on the usefulness of an answer with the **▲/▼** arrow, if you have a 15+ reputation. **Leave a comment if a solution doesn't answer the question.** [What should I do when someone answers my question?](https://stackoverflow.com/help/someone-answers). Thank you. Comment will be deleted within 2 days."
   ]
  },
  {
   "cell_type": "markdown",
   "metadata": {},
   "source": [
    "FYI: Thoroughly answering questions is time-consuming. If your question is **solved**, say thank you by _**accepting** the solution that is **best for your needs**._ The **✔** is below the **▲/▼** arrow at the top left of the answer. A new solution can be accepted if a better one shows up. You may also vote on the usefulness of an answer with the **▲/▼** arrow. **Leave a comment if a solution doesn't answer the question.** [What should I do when someone answers my question?](https://stackoverflow.com/help/someone-answers). Thank you."
   ]
  },
  {
   "cell_type": "markdown",
   "metadata": {},
   "source": [
    "I'm glad this was helpful. Also, as an FYI, in addition to accepting answers, you may vote on their usefulness with the **▲/▼** arrow, if you have a 15+ reputation. Best Regards and happy coding."
   ]
  },
  {
   "cell_type": "markdown",
   "metadata": {},
   "source": [
    "If your question is **solved**, please _**accept** the solution._ The **✔** is below the **▲/▼** arrow, at the top left of the answer. Leave a comment if it isn't, as per [What should I do when someone answers my question?](https://stackoverflow.com/help/someone-answers)"
   ]
  },
  {
   "cell_type": "markdown",
   "metadata": {},
   "source": [
    "If the question is **solved**, please **accept** the best answer for your needs. The **✔** is below the **▲/▼** arrow, at the top left of the answer. Leave a comment if it isn't, as per [What should I do when someone answers my question?](https://stackoverflow.com/help/someone-answers)"
   ]
  },
  {
   "cell_type": "markdown",
   "metadata": {},
   "source": [
    "Is there an issue with the answer, that you don't want to accept it? You get rep for accepting answers. If you don't accept answers in general, people may be less willing to answer your questions in the future. Remember, you're asking someone to spend their time to help you."
   ]
  },
  {
   "cell_type": "markdown",
   "metadata": {},
   "source": [
    "# Questions"
   ]
  },
  {
   "cell_type": "markdown",
   "metadata": {
    "tags": []
   },
   "source": [
    "## MRE\n",
    "**[No Screenshots](https://meta.stackoverflow.com/questions/303812/)**. Always provide a [mre] with **code, data, errors, current output, and expected output**, as **[formatted text](https://stackoverflow.com/help/formatting)**. If relevant, plot images are okay. Please see [How to ask a good question](https://stackoverflow.com/help/how-to-ask).\n",
    "\n",
    "This question needs a [SSCCE](http://sscce.org/). Please see [How to ask a good question](https://stackoverflow.com/help/how-to-ask). The [mre] should include **code, data, errors, current output, and expected output**, as **[formatted text](https://stackoverflow.com/help/formatting)**. If relevant, only plot images are okay. If you don't include a mre, it is likely the question will be downvoted, closed, and deleted.\n",
    "\n",
    "Provide data with [How to provide a reproducible copy of your DataFrame using `df.head(30).to_clipboard(sep=',')`](https://stackoverflow.com/q/52413246/7758804), then **[edit] your question**, and paste the clipboard into a code block."
   ]
  },
  {
   "cell_type": "markdown",
   "metadata": {},
   "source": [
    "## Short, Self Contained, Correct (Compilable), Example\n",
    "This question needs a [SSCCE](http://sscce.org/)."
   ]
  },
  {
   "cell_type": "markdown",
   "metadata": {
    "tags": []
   },
   "source": [
    "## Unclear questions demonstrating no effort\n",
    "\n",
    "Please read the following documentation, then [edit], and rephrase the question. [Take the Tour](https://stackoverflow.com/tour), [How to ask a good question](https://stackoverflow.com/help/how-to-ask), & [On Topic](https://stackoverflow.com/help/on-topic). Always provide a [mre] with **code, data, errors, current & expected output, as [formatted text](https://stackoverflow.com/help/formatting)** & **you're expected to follow [How much research effort is expected of Stack Overflow users?](https://meta.stackoverflow.com/a/261593/7758804) and show your effort**. "
   ]
  },
  {
   "cell_type": "markdown",
   "metadata": {
    "tags": []
   },
   "source": [
    "As per [FAQ Index for Stack Overflow](https://meta.stackoverflow.com/questions/251225/faq-index-for-stack-overflow)"
   ]
  },
  {
   "cell_type": "markdown",
   "metadata": {},
   "source": [
    "## No Data\n",
    "This question is not reproducible without **data**. This question needs a [SSCCE](http://sscce.org/). Please see [How to provide a reproducible dataframe](https://stackoverflow.com/q/52413246/7758804), then **[edit] your question**, and paste the clipboard into a code block. Always provide a [mre] **with code, data, errors, current output, and expected output, as [formatted text](https://stackoverflow.com/help/formatting)**. If relevant, plot images are okay. If you don't include a mre, it is likely the question will be downvoted, closed, and deleted.\n",
    "\n",
    "This question is not reproducible without **data**. This question needs a [SSCCE](http://sscce.org/). Always provide a [mre] **with code, data, errors, current output, and expected output, as [formatted text](https://stackoverflow.com/help/formatting)**. If relevant, plot images are okay. If you don't include a mre, it is likely the question will be downvoted, closed, and deleted."
   ]
  },
  {
   "cell_type": "markdown",
   "metadata": {},
   "source": [
    "## No screenshots\n",
    "**[Don't Post Data Screenshots](https://meta.stackoverflow.com/questions/303812/)**. This question needs a [SSCCE](http://sscce.org/). **Always** provide a [mre], with **code, data, errors, current output, and expected output, as [formatted text](https://stackoverflow.com/help/formatting)**. It's likely the question will be down-voted and closed. You're discouraging assistance, as no one wants to retype data/code, and screenshots are often illegible. [edit] the question and **add text**. Plots are okay. See [How to provide a reproducible dataframe](https://stackoverflow.com/questions/52413246)"
   ]
  },
  {
   "cell_type": "markdown",
   "metadata": {},
   "source": [
    "## Can someone help me\n",
    "[Why is “Can someone help me?” not an actual question?](https://meta.stackoverflow.com/questions/284236/why-is-can-someone-help-me-not-an-actual-question)"
   ]
  },
  {
   "cell_type": "markdown",
   "metadata": {},
   "source": [
    "## Off-Topic Questions\n",
    "[What topics can I ask about here?](https://stackoverflow.com/help/on-topic) & [Don't advise on off-topic questions.](https://meta.stackoverflow.com/questions/276572/)"
   ]
  },
  {
   "cell_type": "markdown",
   "metadata": {},
   "source": [
    "## What topics\n",
    "[What topics can I ask about here?](https://stackoverflow.com/help/on-topic)"
   ]
  },
  {
   "cell_type": "markdown",
   "metadata": {},
   "source": [
    "## For shitty questions in review:\n",
    "Please read the following documentation, then edit and rephrase the question. [Take the Tour](https://stackoverflow.com/tour) & [How to ask a good question](https://stackoverflow.com/help/how-to-ask) & [What topics can I ask about here?](https://stackoverflow.com/help/on-topic) & [Minimal, Reproducible Example](https://stackoverflow.com/help/minimal-reproducible-example) & [How much research effort is expected of Stack Overflow users?](https://meta.stackoverflow.com/questions/261592/how-much-research-effort-is-expected-of-stack-overflow-users). From [review](https://stackoverflow.com/review)."
   ]
  },
  {
   "cell_type": "markdown",
   "metadata": {},
   "source": [
    "## Expected effort\n",
    "[How much research effort is expected of Stack Overflow users?](https://meta.stackoverflow.com/questions/261592/how-much-research-effort-is-expected-of-stack-overflow-users)"
   ]
  },
  {
   "cell_type": "markdown",
   "metadata": {},
   "source": [
    "## Homework\n",
    "\n",
    "This question appears to be homework. Please review [How do I ask and answer homework questions?](https://meta.stackoverflow.com/questions/334822/how-do-i-ask-and-answer-homework-questions) and [How much research effort is expected of Stack Overflow users?](https://meta.stackoverflow.com/a/261593/7758804) then [edit] the question to be in compliance with Stack Overflow guidelines as shown in [Help Center](https://stackoverflow.com/help)."
   ]
  },
  {
   "cell_type": "markdown",
   "metadata": {},
   "source": [
    "## Links to code:\n",
    "[Something in my web site or project doesn't work. Can I just paste a link to it?](https://meta.stackoverflow.com/questions/254428/something-in-my-web-site-or-project-doesnt-work-can-i-just-paste-a-link-to-it)"
   ]
  },
  {
   "cell_type": "markdown",
   "metadata": {},
   "source": [
    "## Installation\n",
    "[Can I ask questions about installation in SO?](https://meta.stackoverflow.com/questions/338203/can-i-ask-questions-about-installation-in-so) Questions about software tools commonly used by programmers must be **a practical, answerable problem unique to software development.**"
   ]
  },
  {
   "cell_type": "markdown",
   "metadata": {},
   "source": [
    "## Close Votes"
   ]
  },
  {
   "cell_type": "markdown",
   "metadata": {},
   "source": [
    "This does not provide an answer to the question. Once you have sufficient [reputation](https://stackoverflow.com/help/whats-reputation) you will be able to [comment on any post](https://stackoverflow.com/help/privileges/comment); instead, [provide answers that don't require clarification from the asker](https://meta.stackexchange.com/questions/214173/why-do-i-need-50-reputation-to-comment-what-can-i-do-instead). - [From Review](link)"
   ]
  },
  {
   "cell_type": "markdown",
   "metadata": {},
   "source": [
    "# Answers"
   ]
  },
  {
   "cell_type": "markdown",
   "metadata": {
    "jp-MarkdownHeadingCollapsed": true,
    "tags": []
   },
   "source": [
    "## Low Quality\n",
    "\n",
    "This answer was reviewed in the [Low Quality Queue](https://stackoverflow.com/help/review-low-quality). Here are some guidelines for [How do I write a good answer?](https://stackoverflow.com/help/how-to-answer). Code only answers are **not considered good answers**, and are likely to be downvoted and/or deleted because they are **less useful** to a community of learners. It's only obvious to you. Explain what it does, and how it's different / **better** than existing answers. [From Review](link)"
   ]
  },
  {
   "cell_type": "markdown",
   "metadata": {
    "tags": []
   },
   "source": [
    "## Link-Only\n",
    "While this link may answer the question, it is better to include the essential parts of the answer here and provide the link for reference. Link-only answers can become invalid if the linked page changes. When you have a high enough [reputation](https://stackoverflow.com/help/whats-reputation), from making quality contributions, you will be able to leave [comments](https://stackoverflow.com/help/privileges/comment)."
   ]
  },
  {
   "cell_type": "markdown",
   "metadata": {},
   "source": [
    "## StackOverflow Links\n",
    "\n",
    "I'm voting to delete this answer. Do no post links to other StackOverflow answers, or only duplicate code from another answer, as a new answer. When, or if, you have a high enough [reputation](https://stackoverflow.com/help/whats-reputation), from making quality contributions, you will be able to leave [comments](https://stackoverflow.com/help/privileges/comment), or [flag posts](https://stackoverflow.com/help/privileges/flag-posts) as duplicates. [From Review](link)"
   ]
  },
  {
   "cell_type": "markdown",
   "metadata": {},
   "source": [
    "## Duplicate Answers\n",
    "\n",
    "This duplicate has been flagged to a moderator, as per [Flag Duplicate Answers on the same Question](https://meta.stackoverflow.com/questions/266469). While this is an answer, it duplicates code in a [previous answer](link). There is no additional value for SO to keep other answers with the same solution. Instead, upvote existing answers. [From Review](link)\n",
    "\n",
    "This has been flagged to a moderator for deletion, as per [Flag Duplicate Answers on the same Question](https://meta.stackoverflow.com/questions/266469). While this is an answer, it duplicates code in"
   ]
  },
  {
   "cell_type": "markdown",
   "metadata": {},
   "source": [
    "I'm voting to delete this, because it's the same as this [answer](link). Don't add **thank you**, or **confirmation** answers. Once you have sufficient [reputation](https://stackoverflow.com/help/whats-reputation) from quality contributions, you will be able to [vote up questions and answers](https://stackoverflow.com/help/privileges/vote-up) that you found helpful. [From Review](link)"
   ]
  },
  {
   "cell_type": "markdown",
   "metadata": {},
   "source": [
    "Please don't add the same [answer](link) to multiple questions. Answer the best one and flag the rest as duplicates. See [Is it acceptable to add a duplicate answer to several questions?](https://meta.stackexchange.com/q/104227/596550). [From Review](link)"
   ]
  },
  {
   "cell_type": "markdown",
   "metadata": {},
   "source": [
    "## In which Stack Exchange site, do I ask my question?\n",
    "[In which Stack Exchange site, do I ask my question?](https://meta.stackexchange.com/questions/129598/which-computer-science-programming-stack-exchange-sites-do-i-post-on)"
   ]
  },
  {
   "cell_type": "markdown",
   "metadata": {},
   "source": [
    "## Code only:\n",
    "[What to do with code-only answers in Low Quality Posts queue?](https://meta.stackoverflow.com/questions/300694/what-to-do-with-code-only-answers-in-low-quality-posts-queue)"
   ]
  },
  {
   "cell_type": "markdown",
   "metadata": {},
   "source": [
    "## Answers to Bad Questions"
   ]
  },
  {
   "cell_type": "markdown",
   "metadata": {},
   "source": [
    "While I didn't DV this answer, others often DV answers to poorly presented questions. Questions such as this are typically DVed, closed, and deleted. As such, you're likely wasting your time. SO is here to [create a repository of **good** questions and answers](https://meta.stackoverflow.com/a/255019/7758804), which can be used as a resource by others. If the quality of a question can be improved by editing, do so, otherwise it's advised to DV and vote to close. [Meta: Is it okay to downvote answers to bad questions?](https://meta.stackoverflow.com/q/255459/7758804)"
   ]
  },
  {
   "cell_type": "markdown",
   "metadata": {},
   "source": [
    "## Answers to Typos"
   ]
  },
  {
   "cell_type": "markdown",
   "metadata": {},
   "source": [
    "Issues caused by a **typo** should be called out in comments, not an answer, and flagged to **Not reproducible or was caused by typos**. Reference [Should you answer questions where the cause of the problem is a typo?](https://meta.stackoverflow.com/a/366141/7758804) & [this meta answer](https://meta.stackexchange.com/a/123743/596550). These questions are downvoted, closed and deleted, as they are *to localized*, and of no benefit to the community. [From Review](link)"
   ]
  },
  {
   "cell_type": "markdown",
   "metadata": {},
   "source": [
    "**Your code works** issues should be called out in comments, not an answer, and flagged to **Not reproducible or was caused by typos**. Reference [How do I handle \"it's working\" answers?](https://meta.stackoverflow.com/a/348880/7758804). These questions are downvoted, closed and deleted, as they are *to localized*, and of no benefit to the community. [From Review](link)"
   ]
  },
  {
   "cell_type": "markdown",
   "metadata": {},
   "source": [
    "# Resource Links"
   ]
  },
  {
   "cell_type": "markdown",
   "metadata": {},
   "source": [
    "## Real Python\n",
    "- [Fast, Flexible, Easy and Intuitive: How to Speed Up Your Pandas Projects](https://realpython.com/fast-flexible-pandas/) use `isin`, `cut` or `np.digitize`\n",
    "- `\"\"\"description of the function\"\"\"`: use docstrings [Documenting Python Code: A Complete Guide](https://realpython.com/documenting-python-code/)\n",
    "- [Type annotations](https://realpython.com/python-type-checking/#annotations)"
   ]
  },
  {
   "cell_type": "markdown",
   "metadata": {},
   "source": [
    "## Flatten JSON\n",
    "[How to flatten nested JSON recursively, with flatten_json?](https://stackoverflow.com/questions/58442723/how-to-flatten-nested-json-recursively-with-flatten-json)"
   ]
  },
  {
   "cell_type": "markdown",
   "metadata": {},
   "source": [
    "## code\n",
    " - [PEP 484 - Type Hints](https://www.python.org/dev/peps/pep-0484/)\n",
    " - [`with`: Reading and Writing Files](https://docs.python.org/3/tutorial/inputoutput.html#reading-and-writing-files)\n",
    " - [Scope of Variables in Python](https://www.datacamp.com/community/tutorials/scope-of-variables-python)\n",
    " - [List Comprehensions](https://docs.python.org/3/tutorial/datastructures.html#list-comprehensions)\n",
    " - [The `return` statement](https://docs.python.org/3/reference/simple_stmts.html?highlight=return#the-return-statement)\n",
    " - [membership operator, `in`](https://docs.python.org/3/reference/expressions.html#membership-test-operations)"
   ]
  },
  {
   "cell_type": "markdown",
   "metadata": {},
   "source": [
    "### f-strings\n",
    "- [f-Strings: A New and Improved Way to Format Strings in Python](https://realpython.com/python-f-strings/#f-strings-a-new-and-improved-way-to-format-strings-in-python)\n",
    "- [PEP 498 - Literal String Interpolation](https://www.python.org/dev/peps/pep-0498/)"
   ]
  },
  {
   "cell_type": "markdown",
   "metadata": {},
   "source": [
    "### pathlib\n",
    " - [pathlib](https://docs.python.org/3/library/pathlib.html), part of the standard library and should replace `os`.\n",
    " - [Python 3's pathlib Module: Taming the File System](https://realpython.com/python-pathlib/)"
   ]
  },
  {
   "cell_type": "markdown",
   "metadata": {},
   "source": [
    "# Meta"
   ]
  },
  {
   "cell_type": "markdown",
   "metadata": {},
   "source": [
    "## What is Stack Overflow’s goal?\n",
    "\n",
    "[What is Stack Overflow’s goal?](https://meta.stackoverflow.com/q/254770/7758804) - **The primary purpose is to build a repository of questions and answers.** This is also stated in the first paragraph of the [tour]."
   ]
  },
  {
   "cell_type": "markdown",
   "metadata": {},
   "source": [
    "## Students\n",
    "\n",
    "- [Open letter to students with homework problems](https://softwareengineering.meta.stackexchange.com/questions/6166)\n",
    "- [How do I ask and answer homework questions?](https://meta.stackoverflow.com/questions/334822)  "
   ]
  },
  {
   "cell_type": "markdown",
   "metadata": {},
   "source": [
    "## Code of Conduct:\n",
    "[Code of Conduct](https://stackoverflow.com/conduct)"
   ]
  },
  {
   "cell_type": "markdown",
   "metadata": {},
   "source": [
    "## Very Low Quality\n",
    "[Very Low Quality](https://meta.stackoverflow.com/questions/265573/am-i-misusing-the-very-low-quality-flag/265764#265764)"
   ]
  },
  {
   "cell_type": "markdown",
   "metadata": {},
   "source": [
    "## Why downvotes\n",
    "Downvotes have nothing to do with the ease or difficulty of the question, they have to do with perceived effort, of trying to resolve the issue, prior to asking the question, the clarity with which the question is asked, and usefulness of the question to the Stack Overflow community. Additionally, there is such a thing as the question being to broad, and off-topic. Optimization questions, for existing functional code, is off-topic and should be asked in code review. Also, I'm not the one who downvoted your question.\n",
    "\n",
    "[Downvoted because no attempt was made](http://idownvotedbecau.se/noattempt/)"
   ]
  },
  {
   "cell_type": "markdown",
   "metadata": {},
   "source": [
    "## Revenge Downvotes\n",
    "[What can I do about getting a sudden flood of revenge downvotes?](https://meta.stackexchange.com/questions/212332/what-should-you-do-if-youre-serial-downvoted-it-isnt-automatically-reversed/212339#212339)"
   ]
  },
  {
   "cell_type": "markdown",
   "metadata": {},
   "source": [
    "## Spam Affiliation\n",
    "\n",
    "## Spam\n",
    "[What signifies “Good” self promotion? (or: Self Promotion Part Infinity)](https://meta.stackexchange.com/questions/182212/what-signifies-good-self-promotion-or-self-promotion-part-infinity)\n",
    "[How to not be a spammer](https://stackoverflow.com/help/promotion)\n",
    "[What makes something spam and when should I flag it?](https://meta.stackexchange.com/questions/58032/what-are-the-spam-and-rude-or-abusive-offensive-flags-and-how-do-they-wor/58035#58035)\n",
    "\n",
    "The community here tends to vote down overt self-promotion and flag it as spam. Post good, relevant answers **(this answer is not relevant to the question)**, and if some (but not all) happen to be about your product or website, that’s okay. However, **you must disclose your affiliation in your answers.** [How to not be a spammer](https://stackoverflow.com/help/promotion)\n",
    "\n",
    "https://stackoverflow.com/questions/63238666\n",
    "\n",
    "This answer has been flagged as spam, because the answer is not relevant to the question, and the OP is affiliated with the `yahooquery` package. Several answers by this OP have already been removed by [Makyen](https://stackoverflow.com/users/3773011/makyen)"
   ]
  },
  {
   "cell_type": "markdown",
   "metadata": {},
   "source": [
    "# Add to Answers"
   ]
  },
  {
   "cell_type": "markdown",
   "metadata": {},
   "source": [
    "## Annotation Resources - from `matplotlib v3.4.2`\n",
    "- [Adding value labels on a matplotlib bar chart][a]\n",
    "- [How to annotate each segment of a stacked bar chart][b]\n",
    "- [Stacked Bar Chart with Centered Labels][c]\n",
    "- [How to plot and annotate multiple data columns in a seaborn barplot][d]\n",
    "- [How to annotate a seaborn barplot with the aggregated value][e]\n",
    "- [stack bar plot in matplotlib and add label to each section][f]\n",
    "- [How to add multiple annotations to a barplot][g]\n",
    "- [How to plot and annotate a grouped bar chart][h]\n",
    "- [How to plot a horizontal stacked bar with annotations][i]\n",
    "\n",
    "\n",
    "\n",
    "  [a]: https://stackoverflow.com/a/67561982/7758804\n",
    "  [b]: https://stackoverflow.com/q/63855856/7758804\n",
    "  [c]: https://stackoverflow.com/a/60895640/7758804\n",
    "  [d]: https://stackoverflow.com/q/63220741/7758804\n",
    "  [e]: https://stackoverflow.com/q/64780251/7758804\n",
    "  [f]: https://stackoverflow.com/a/64202669/7758804\n",
    "  [g]: https://stackoverflow.com/q/61718127/7758804\n",
    "  [h]: https://stackoverflow.com/q/63493530/7758804\n",
    "  [i]: https://stackoverflow.com/q/63135395/7758804"
   ]
  },
  {
   "cell_type": "markdown",
   "metadata": {},
   "source": [
    "## From `matplotlib v3.4.2`\n",
    "- Use [`matplotlib.pyplot.bar_label`][y]\n",
    "  - The default label position, set with the parameter `label_type`, is `'edge'`. To center the labels in the middle of the bar, use `'center'`\n",
    "- See the [matplotlib: Bar Label Demo][z] page for additional formatting options.\n",
    "\n",
    "  [y]: https://matplotlib.org/stable/api/_as_gen/matplotlib.pyplot.bar_label.html\n",
    "  [z]: https://matplotlib.org/stable/gallery/lines_bars_and_markers/bar_label_demo.html"
   ]
  },
  {
   "cell_type": "markdown",
   "metadata": {},
   "source": [
    "## Tested In"
   ]
  },
  {
   "cell_type": "markdown",
   "metadata": {},
   "source": [
    "**Tested in `python 3.12.0`, `pandas 2.1.1`, `matplotlib 3.8.0`, `seaborn 0.13.0`**"
   ]
  },
  {
   "cell_type": "markdown",
   "metadata": {},
   "source": [
    "Code tested in `pandas 1.3.4` - update with [`pip`][1] or [`conda`][2], depending on your environment.\n",
    "\n",
    "  [1]: https://stackoverflow.com/q/37954195/7758804\n",
    "  [2]: https://stackoverflow.com/q/22840449/7758804"
   ]
  },
  {
   "cell_type": "markdown",
   "metadata": {},
   "source": [
    "- **Tested in `pandas 1.3.4`, `python 3.8`<sup>1.</sup>, and `matplotlib 3.4.3`<sup>1.</sup>**\n",
    "  1. Minimum version required"
   ]
  },
  {
   "cell_type": "markdown",
   "metadata": {},
   "source": [
    "# Python Install Issues"
   ]
  },
  {
   "cell_type": "markdown",
   "metadata": {},
   "source": [
    "I recommend using the [Anaconda Distribution](https://www.anaconda.com/products/individual), it's likely to make your life much easier. All packages are installed as precompiled binaries. [Package List](https://docs.anaconda.com/anaconda/packages/py3.8_win-64/). **If you are using Anaconda, do not use `pip` to install/remove packages that exist within the `conda` ecosystem.** Use `conda install package`. Only use `pip` if the package is not available with `conda install`. Using `pip` can potentially wreck your installation because `pip` and `conda` do not manage dependencies in the same way."
   ]
  },
  {
   "cell_type": "markdown",
   "metadata": {},
   "source": [
    "`ax = fig.add_subplot(projection='3d')`\n",
    "\n",
    "https://stackoverflow.com/q/69791864/7758804\n",
    "https://stackoverflow.com/q/69466552/7758804"
   ]
  },
  {
   "cell_type": "markdown",
   "metadata": {},
   "source": [
    "# Tags"
   ]
  },
  {
   "cell_type": "markdown",
   "metadata": {},
   "source": [
    "[tag:pandas]"
   ]
  }
 ],
 "metadata": {
  "kernelspec": {
   "display_name": "py312",
   "language": "python",
   "name": "py312"
  },
  "language_info": {
   "codemirror_mode": {
    "name": "ipython",
    "version": 3
   },
   "file_extension": ".py",
   "mimetype": "text/x-python",
   "name": "python",
   "nbconvert_exporter": "python",
   "pygments_lexer": "ipython3",
   "version": "3.12.0"
  }
 },
 "nbformat": 4,
 "nbformat_minor": 4
}
