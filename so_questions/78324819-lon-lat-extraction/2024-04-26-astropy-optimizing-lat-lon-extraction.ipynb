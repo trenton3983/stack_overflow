{
 "cells": [
  {
   "cell_type": "markdown",
   "id": "8995b8cf-4952-4072-81b2-bc45fc3eab5f",
   "metadata": {},
   "source": [
    "Associated Stack Overflow question: [Optimizing Lat/Lon Extraction from Astropy's GeocentricTrueEcliptic SkyCoord](https://stackoverflow.com/q/78324819/7758804)\n",
    "\n",
    "The three functions presented below calculate latitude and longitude, as radians, using `x`, `y`, and `z` from the `astropy.coordinates.sky_coordinate.SkyCoord` object.\n",
    "\n",
    "There is a `numpy` option, and two [`numba`](https://numba.pydata.org/) enhanced versions-one using the JIT and the other adding parallel processing, which offer varying improvements.\n",
    "\n",
    "- **`@jit`**: [Compiling Python code with `@jit`](https://numba.readthedocs.io/en/stable/user/jit.html)\n",
    "- **`cache`**: [Cache the compiled function on disk](https://numba.readthedocs.io/en/stable/user/jit.html#cache)\n",
    "- **`parallel`**: [Automatic parallelization](https://numba.readthedocs.io/en/stable/user/jit.html#parallel)"
   ]
  },
  {
   "cell_type": "markdown",
   "id": "d8b4aab9-0ca6-43e1-acb1-d215f01335b1",
   "metadata": {},
   "source": [
    "## Results Summary\n",
    "\n",
    "This analysis demonstrates improved performance when using Numba-enhanced functions for calculating spherical coordinates from an Astropy `SkyCoord` object in the `GeocentricTrueEcliptic` frame compared to directly accessing `.lat` and `.lon` properties.\n",
    "\n",
    "- **Detailed Time Measurements**:\n",
    "  - Direct access to `.lat` and `.lon` properties took about 17.73 microseconds (`8.89 µs` for `.lat` and `8.84 µs` for `.lon`).\n",
    "  - Retrieving `x`, `y`, and `z` values directly (`467 ns`, `450 ns`, and `458 ns` respectively) summed to approximately 1.375 microseconds.\n",
    "  - The `cartesian_to_spherical_numba` computation took 267 nanoseconds.\n",
    "\n",
    "- **Combining the time for direct value retrieval and computation**:\n",
    "  - Total time for Numba-enhanced computation (`cartesian_to_spherical_numba`): `1.375 µs` (value retrieval) + `267 ns` = `1.642 µs`.\n",
    "  - This is about 10.8 times faster than the direct access method for `.lat` and `.lon` (`17.73 µs / 1.642 µs ≈ 10.8`).\n",
    "\n",
    "These results demonstrate the gains achieved by using JIT compilation. This is further enhanced by the use of parallelization, beneficial for arrays of coordinates.\n",
    "\n",
    "## Relevant Imports"
   ]
  },
  {
   "cell_type": "code",
   "execution_count": null,
   "id": "efe01154-582a-4d6e-a645-ca7d8d67182f",
   "metadata": {},
   "outputs": [],
   "source": [
    "from astropy.coordinates import SkyCoord, GeocentricTrueEcliptic, ICRS, Angle\n",
    "import astropy.units as u\n",
    "from astropy.time import Time\n",
    "import numpy as np\n",
    "from numba import jit, prange\n",
    "from typing import Tuple, Union"
   ]
  },
  {
   "cell_type": "markdown",
   "id": "a8b42b4a-450c-4158-a367-0e6a9b6ecfa0",
   "metadata": {},
   "source": [
    "- Python: 3.12.0\n",
    "- Astropy Version: 6.0.1\n",
    "- Numba Version: 0.59.1\n",
    "- Numpy Version: 1.26.4\n",
    "\n",
    "## Initial Code"
   ]
  },
  {
   "cell_type": "code",
   "execution_count": null,
   "id": "b9b7c823-7f2b-427a-8bb2-a485b0147e03",
   "metadata": {},
   "outputs": [],
   "source": [
    "# International Celestial Reference System coordinates\n",
    "coo_icrs = SkyCoord(150*u.deg, 19*u.deg, frame=ICRS(), obstime=Time(2460791., format=\"jd\"))\n",
    "# Ecliptic coordinates\n",
    "ecliptic_coords = coo_icrs.transform_to(GeocentricTrueEcliptic)\n",
    "\n",
    "print(ecliptic_coords.lat, ecliptic_coords.lon)"
   ]
  },
  {
   "cell_type": "code",
   "execution_count": null,
   "id": "5e336f96-4e96-43a6-b881-430f3f657f62",
   "metadata": {},
   "outputs": [],
   "source": [
    "coo_icrs"
   ]
  },
  {
   "cell_type": "code",
   "execution_count": null,
   "id": "0e5a5c74-ff17-45df-a2d6-0276dc01fec5",
   "metadata": {},
   "outputs": [],
   "source": [
    "ecliptic_coords"
   ]
  },
  {
   "cell_type": "code",
   "execution_count": null,
   "id": "9df3b43a-1ad1-48a8-a206-8d790db5d6fb",
   "metadata": {},
   "outputs": [],
   "source": [
    "type(coo_icrs.transform_to(GeocentricTrueEcliptic))"
   ]
  },
  {
   "cell_type": "code",
   "execution_count": null,
   "id": "ad499115-2c39-4862-adb6-0bb0dd12a4bd",
   "metadata": {},
   "outputs": [],
   "source": [
    "%timeit ecliptic_coords.lat\n",
    "%timeit ecliptic_coords.lon\n",
    "%timeit ecliptic_coords._sky_coord_frame._data\n",
    "%timeit ecliptic_coords._sky_coord_frame._data.xyz.value\n",
    "%timeit ecliptic_coords._sky_coord_frame._data.x.value\n",
    "%timeit ecliptic_coords._sky_coord_frame._data.y.value\n",
    "%timeit ecliptic_coords._sky_coord_frame._data.z.value\n",
    "%timeit ecliptic_coords.cartesian.xyz.value\n",
    "%timeit ecliptic_coords.cartesian.x.value"
   ]
  },
  {
   "cell_type": "markdown",
   "id": "185555f8-d1a0-4991-9184-840b69c87b55",
   "metadata": {},
   "source": [
    "`[6d21m12.19206726s] [145d28m31.99626325s]`\n",
    "\n",
    "### `timeit` for various functions\n",
    "\n",
    "Accessing `._sky_coord_frame._data.x.value` is significantly faster, taking only 467 ns, compared to `6.14 µs` when using `.cartesian.x.value`. However, the use of a single underscore (`_`) prefix in the names of attributes or methods signifies they are intended to be \"protected\" or for internal use. See [this question](https://stackoverflow.com/q/1301346/7758804), [Private Variables](https://docs.python.org/3/tutorial/classes.html#private-variables), and [Public vs Non-Public Members](https://realpython.com/python-classes/#public-vs-non-public-members) for additional details.\n",
    "\n",
    "```python\n",
    "%timeit ecliptic_coords.lat\n",
    "8.89 µs ± 132 ns per loop (mean ± std. dev. of 7 runs, 100,000 loops each)\n",
    "%timeit ecliptic_coords.lon\n",
    "8.84 µs ± 413 ns per loop (mean ± std. dev. of 7 runs, 100,000 loops each)\n",
    "%timeit ecliptic_coords._sky_coord_frame._data\n",
    "76.5 ns ± 0.507 ns per loop (mean ± std. dev. of 7 runs, 10,000,000 loops each)\n",
    "%timeit ecliptic_coords._sky_coord_frame._data.xyz.value\n",
    "15.8 µs ± 351 ns per loop (mean ± std. dev. of 7 runs, 100,000 loops each)\n",
    "%timeit ecliptic_coords._sky_coord_frame._data.x.value\n",
    "467 ns ± 10.4 ns per loop (mean ± std. dev. of 7 runs, 1,000,000 loops each)\n",
    "%timeit ecliptic_coords._sky_coord_frame._data.y.value\n",
    "450 ns ± 3.89 ns per loop (mean ± std. dev. of 7 runs, 1,000,000 loops each)\n",
    "%timeit ecliptic_coords._sky_coord_frame._data.z.value\n",
    "458 ns ± 6.94 ns per loop (mean ± std. dev. of 7 runs, 1,000,000 loops each)\n",
    "%timeit ecliptic_coords.cartesian.xyz.value\n",
    "25.1 µs ± 409 ns per loop (mean ± std. dev. of 7 runs, 10,000 loops each)\n",
    "%timeit ecliptic_coords.cartesian.x.value\n",
    "6.14 µs ± 215 ns per loop (mean ± std. dev. of 7 runs, 100,000 loops each)\n",
    "```\n",
    "\n",
    "## Code to Calculate Longitude and Latitude"
   ]
  },
  {
   "cell_type": "code",
   "execution_count": null,
   "id": "c0dd9b6f-acd3-42a6-abba-df4abe26ac19",
   "metadata": {},
   "outputs": [],
   "source": [
    "def cartesian_to_spherical_numpy(\n",
    "    x: Union[np.ndarray, np.float64],\n",
    "    y: Union[np.ndarray, np.float64],\n",
    "    z: Union[np.ndarray, np.float64]\n",
    "    ) -> Tuple[np.ndarray, np.ndarray]:\n",
    "    \"\"\"\n",
    "    Convert Cartesian coordinates to spherical coordinates using NumPy.\n",
    "\n",
    "    Args:\n",
    "    x (Union[np.ndarray, np.float64]): X-coordinates in Cartesian.\n",
    "    y (Union[np.ndarray, np.float64]): Y-coordinates in Cartesian.\n",
    "    z (Union[np.ndarray, np.float64]): Z-coordinates in Cartesian.\n",
    "\n",
    "    Returns:\n",
    "    Tuple[np.ndarray, np.ndarray]: Tuple of longitude and latitude arrays in radians.\n",
    "    \"\"\"\n",
    "    lon = np.arctan2(y, x)  # Compute longitude using arctan2 for proper handling of quadrant.\n",
    "    hypot = np.sqrt(x**2 + y**2)  # Compute the hypotenuse of x and y to use for latitude calculation.\n",
    "    lat = np.arctan2(z, hypot)  # Compute latitude as the angle from the positive z-axis.\n",
    "    return lon, lat\n",
    "\n",
    "\n",
    "@jit(nopython=True, cache=True)\n",
    "def cartesian_to_spherical_numba(\n",
    "    x: Union[np.ndarray, np.float64],\n",
    "    y: Union[np.ndarray, np.float64],\n",
    "    z: Union[np.ndarray, np.float64]\n",
    "    ) -> Tuple[np.ndarray, np.ndarray]:\n",
    "    \"\"\"\n",
    "    Convert Cartesian coordinates to spherical coordinates using Numba for JIT compilation to speed up the computation.\n",
    "    \n",
    "    Args:\n",
    "    x (Union[np.ndarray, np.float64]): X-coordinates in Cartesian.\n",
    "    y (Union[np.ndarray, np.float64]): Y-coordinates in Cartesian.\n",
    "    z (Union[np.ndarray, np.float64]): Z-coordinates in Cartesian.\n",
    "\n",
    "    Returns:\n",
    "    Tuple[np.ndarray, np.ndarray]: Tuple of longitude and latitude arrays in radians.\n",
    "    \"\"\"\n",
    "    lon = np.arctan2(y, x)  # Computation of longitude.\n",
    "    hypot = np.sqrt(x**2 + y**2)  # Computation of the hypotenuse for latitude calculation.\n",
    "    lat = np.arctan2(z, hypot)  # Computation of latitude.\n",
    "    return lon, lat\n",
    "\n",
    "\n",
    "@jit(nopython=True, parallel=True, cache=True)\n",
    "def cartesian_to_spherical_numba_parallel(x: np.ndarray, y: np.ndarray, z: np.ndarray) -> Tuple[np.ndarray, np.ndarray]:\n",
    "    \"\"\"\n",
    "    Convert Cartesian coordinates to spherical coordinates with both parallel processing and JIT compilation\n",
    "    This version leverages multiple CPU cores to handle large arrays more efficiently.\n",
    "\n",
    "    Args:\n",
    "    x (np.ndarray): X-coordinates in Cartesian.\n",
    "    y (np.ndarray): Y-coordinates in Cartesian.\n",
    "    z (np.ndarray): Z-coordinates in Cartesian.\n",
    "\n",
    "    Returns:\n",
    "    Tuple[np.ndarray, np.ndarray]: Tuple of longitude and latitude arrays in radians.\n",
    "    \"\"\"\n",
    "    lon = np.empty_like(x)  # Preallocate the array for longitude.\n",
    "    lat = np.empty_like(x)  # Preallocate the array for latitude.\n",
    "    for i in prange(x.size):  # Use parallel range (prange) to distribute loop iterations across multiple threads.\n",
    "        lon[i] = np.arctan2(y[i], x[i])  # Compute longitude for each element in parallel.\n",
    "        hypot = np.sqrt(x[i]**2 + y[i]**2)  # Compute the hypotenuse for each element in parallel.\n",
    "        lat[i] = np.arctan2(z[i], hypot)  # Compute latitude for each element in parallel.\n",
    "    return lon, lat"
   ]
  },
  {
   "cell_type": "markdown",
   "id": "5c4944ae-fac0-4768-81f8-457ae7c23986",
   "metadata": {},
   "source": [
    "### Usage\n",
    "\n",
    "#### Testing with `x`, `y`, and `z` as `np.float64`"
   ]
  },
  {
   "cell_type": "code",
   "execution_count": null,
   "id": "61be5356-73f1-4f3c-a52f-dcf9eba919ac",
   "metadata": {},
   "outputs": [],
   "source": [
    "# Ensure Numba function is compiled before timing - only used for testing - not required when using functions in a loop\n",
    "_ = cartesian_to_spherical_numba(np.array([1.0]), np.array([1.0]), np.array([1.0]))\n",
    "\n",
    "# extract x, y, and z values as numpy.float64\n",
    "x_ecl = ecliptic_coords._sky_coord_frame._data.x.value\n",
    "y_ecl = ecliptic_coords._sky_coord_frame._data.y.value\n",
    "z_ecl = ecliptic_coords._sky_coord_frame._data.z.value\n",
    "\n",
    "# time the non-parallel functions\n",
    "%timeit cartesian_to_spherical_numpy(x_ecl, y_ecl, z_ecl)\n",
    "%timeit cartesian_to_spherical_numba(x_ecl, y_ecl, z_ecl)"
   ]
  },
  {
   "cell_type": "code",
   "execution_count": null,
   "id": "fb1d764c-dcbd-4303-9ffa-39797fa346b0",
   "metadata": {},
   "outputs": [],
   "source": [
    "cartesian_to_spherical_numpy(x_ecl, y_ecl, z_ecl)"
   ]
  },
  {
   "cell_type": "code",
   "execution_count": null,
   "id": "c860dd3b-5a83-4a92-9ab8-a5350360402a",
   "metadata": {},
   "outputs": [],
   "source": [
    "cartesian_to_spherical_numba(x_ecl, y_ecl, z_ecl)"
   ]
  },
  {
   "cell_type": "markdown",
   "id": "52475045-537b-4245-ba7d-dc07d3819e5e",
   "metadata": {},
   "source": [
    "#### Testing with `x`, `y`, and `z` as `np.ndarray`\n",
    "\n",
    "Use if `x`, `y`, and `z` values can be configured into three arrays of length `n`."
   ]
  },
  {
   "cell_type": "code",
   "execution_count": null,
   "id": "bbf1f73b-d189-417f-8f34-cbe2e3edfcc6",
   "metadata": {},
   "outputs": [],
   "source": [
    "# Generate test data\n",
    "n = 1000000\n",
    "x = np.random.uniform(-1, 1, n)\n",
    "y = np.random.uniform(-1, 1, n)\n",
    "z = np.random.uniform(-1, 1, n)\n",
    "\n",
    "# Ensure Numba function is compiled before timing\n",
    "_ = cartesian_to_spherical_numba(np.array([1.0]), np.array([1.0]), np.array([1.0]))\n",
    "_ = cartesian_to_spherical_numba_parallel(np.array([1.0]), np.array([1.0]), np.array([1.0]))\n",
    "\n",
    "# time all the functions\n",
    "%timeit cartesian_to_spherical_numpy(x, y, z)\n",
    "%timeit cartesian_to_spherical_numba(x, y, z)\n",
    "%timeit cartesian_to_spherical_numba_parallel(x, y, z)"
   ]
  },
  {
   "cell_type": "markdown",
   "id": "b85e152a-5dca-4941-8236-90308d2432cd",
   "metadata": {},
   "source": [
    "## Radians and Degree, Minute, Seconds\n",
    "\n",
    "`.lat` and `.lon` return values formatted as (degrees, minutes, seconds), while the implemented functions return values as radians, which are natively used by numpy and numba. The following code presents additional format options, which are not considered in the timing analysis.\n",
    "\n",
    "### Converting Radians to Degrees"
   ]
  },
  {
   "cell_type": "code",
   "execution_count": null,
   "id": "995526fc-ba38-44a3-99d6-715abbf26ea8",
   "metadata": {},
   "outputs": [],
   "source": [
    "@jit(nopython=True, cache=True)\n",
    "def cartesian_to_spherical_numba_deg(x, y, z):\n",
    "    lon = np.arctan2(y, x)\n",
    "    hypot = np.sqrt(x**2 + y**2)\n",
    "    lat = np.arctan2(z, hypot)\n",
    "    return np.degrees(lon), np.degrees(lat)"
   ]
  },
  {
   "cell_type": "code",
   "execution_count": null,
   "id": "5df13308-4dc8-4b25-ac21-1c8956159cfb",
   "metadata": {},
   "outputs": [],
   "source": [
    "cartesian_to_spherical_numba_deg(x_ecl, y_ecl, z_ecl)"
   ]
  },
  {
   "cell_type": "code",
   "execution_count": null,
   "id": "ddf7853b-fc1b-47c1-abc7-de00a7d1bbe8",
   "metadata": {},
   "outputs": [],
   "source": [
    "@jit(nopython=True, parallel=True)\n",
    "def cartesian_to_spherical_numba_parallel_deg(x, y, z):\n",
    "    lon = np.empty_like(x)\n",
    "    lat = np.empty_like(x)\n",
    "    for i in prange(x.size):\n",
    "        lon[i] = np.arctan2(y[i], x[i])\n",
    "        hypot = np.sqrt(x[i]**2 + y[i]**2)\n",
    "        lat[i] = np.arctan2(z[i], hypot)\n",
    "    return np.degrees(lon), np.degrees(lat)"
   ]
  },
  {
   "cell_type": "markdown",
   "id": "006580b0-eb60-42fc-bf62-e4ef314cdfe4",
   "metadata": {},
   "source": [
    "### Formatting as Degrees, Minutes, and Seconds"
   ]
  },
  {
   "cell_type": "code",
   "execution_count": null,
   "id": "a5260605-a1d3-4d27-a1cf-8765445520d5",
   "metadata": {},
   "outputs": [],
   "source": [
    "# Example radians-to-degree conversion\n",
    "lon_rad = np.array([2.61799388])  # longitude in radians\n",
    "lat_rad = np.array([0.33161256])  # latitude in radians\n",
    "\n",
    "# Convert radians to degrees\n",
    "lon_deg, lat_deg = np.degrees(lon_rad), np.degrees(lat_rad)\n",
    "\n",
    "# Create Angle objects and format them\n",
    "lon_angle = Angle(lon_deg, u.degree)\n",
    "lat_angle = Angle(lat_deg, u.degree)\n",
    "\n",
    "# Print formatted angles\n",
    "print(lon_angle.to_string(unit=u.degree, sep=('d', 'm', 's')))\n",
    "print(lat_angle.to_string(unit=u.degree, sep=('d', 'm', 's')))"
   ]
  }
 ],
 "metadata": {
  "kernelspec": {
   "display_name": "py312",
   "language": "python",
   "name": "py312"
  },
  "language_info": {
   "codemirror_mode": {
    "name": "ipython",
    "version": 3
   },
   "file_extension": ".py",
   "mimetype": "text/x-python",
   "name": "python",
   "nbconvert_exporter": "python",
   "pygments_lexer": "ipython3",
   "version": "3.12.3"
  }
 },
 "nbformat": 4,
 "nbformat_minor": 5
}
