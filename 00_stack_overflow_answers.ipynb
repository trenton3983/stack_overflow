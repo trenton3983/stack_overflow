{
 "cells": [
  {
   "cell_type": "markdown",
   "metadata": {},
   "source": [
    "## Code to search the contents for all of your SO answers\n",
    "\n",
    "- File with\n",
    "  - Tags\n",
    "  - Title\n",
    "  - ViewCount\n",
    "  - Score\n",
    "  - Answer ID\n",
    "  - Accepted Answer Id\n",
    "  - Answer Body"
   ]
  },
  {
   "cell_type": "code",
   "execution_count": null,
   "metadata": {},
   "outputs": [],
   "source": [
    "import pandas as pd\n",
    "from IPython.display import HTML\n",
    "from bs4 import BeautifulSoup\n",
    "from pathlib import Path\n",
    "import re"
   ]
  },
  {
   "cell_type": "code",
   "execution_count": null,
   "metadata": {},
   "outputs": [],
   "source": [
    "pd.set_option('display.max_columns', 700)\n",
    "pd.set_option('display.max_rows', 400)\n",
    "pd.set_option('display.min_rows', 10)\n",
    "pd.set_option('display.expand_frame_repr', True)"
   ]
  },
  {
   "cell_type": "markdown",
   "metadata": {},
   "source": [
    "- Perform query at [StackExchange Data Explorer][sede] with the following query, using your Stack Overflow user ID\n",
    "\n",
    "```sql\n",
    "SELECT \n",
    "    Ans.CreationDate, Qus.Tags, Qus.Title, Qus.ViewCount, Qus.Body AS QBody, Qus.Id AS QID,\n",
    "    Ans.Score, Ans.ID, Qus.AcceptedAnswerId, Ans.Body\n",
    "FROM Posts as Qus\n",
    "LEFT JOIN Posts as Ans\n",
    "ON Qus.ID = Ans.ParentID\n",
    "WHERE Ans.OwnerUserId = ##UserId##\n",
    "ORDER BY Ans.CreationDate DESCte DESC\n",
    "```\n",
    "\n",
    "- Save the file as `'so_QueryResults.csv'`\n",
    "\n",
    "  [sede]: https://data.stackexchange.com/stackoverflow/query/new"
   ]
  },
  {
   "cell_type": "code",
   "execution_count": null,
   "metadata": {},
   "outputs": [],
   "source": [
    "# load file\n",
    "so = pd.read_csv('so_QueryResults.csv', dtype={'ID': int, 'AcceptedAnswerId': str})"
   ]
  },
  {
   "cell_type": "code",
   "execution_count": null,
   "metadata": {},
   "outputs": [],
   "source": [
    "so.CreationDate = pd.to_datetime(so.CreationDate).dt.date"
   ]
  },
  {
   "cell_type": "code",
   "execution_count": null,
   "metadata": {},
   "outputs": [],
   "source": [
    "so.fillna({'AcceptedAnswerId': 0}, inplace=True)  # replace NaN with 0\n",
    "so.AcceptedAnswerId = so.AcceptedAnswerId.astype(int)  # convert from float to int\n",
    "so['Accepted'] = so.ID == so.AcceptedAnswerId  # add a Boolean column True if your answer is the accepted answer"
   ]
  },
  {
   "cell_type": "code",
   "execution_count": null,
   "metadata": {},
   "outputs": [],
   "source": [
    "# using the answer id, create a link to your answer\n",
    "my_uid = 7758804\n",
    "so['Answer Link'] = so[['ID', 'Title']].apply(lambda x: f'<a href=\"https://stackoverflow.com/a/{x['ID']}/{my_uid}\">{x['Title']}</a>', axis=1)"
   ]
  },
  {
   "cell_type": "code",
   "execution_count": null,
   "metadata": {},
   "outputs": [],
   "source": [
    "# question link\n",
    "so['Question Link'] = so[['QID']].apply(lambda x: f'<a href=\"https://stackoverflow.com/q/{x['QID']}/{my_uid}\">Question Link</a>', axis=1)"
   ]
  },
  {
   "cell_type": "code",
   "execution_count": null,
   "metadata": {},
   "outputs": [],
   "source": [
    "# add Answer Link to the answer body as a header\n",
    "so['Body'] = so[['Answer Link', 'Question Link', 'Body']].apply(lambda x: f'<h2>{x.iloc[0]}</h2>' + f'<h3>{x.iloc[1]}</h3>' + x.iloc[2], axis=1)"
   ]
  },
  {
   "cell_type": "code",
   "execution_count": null,
   "metadata": {},
   "outputs": [],
   "source": [
    "so.drop(columns=['ID', 'AcceptedAnswerId', 'Title'], inplace=True)"
   ]
  },
  {
   "cell_type": "code",
   "execution_count": null,
   "metadata": {},
   "outputs": [],
   "source": [
    "so.Tags = so.Tags.str.replace('><', ' ', regex=True).str.replace('<|>', '', regex=True).str.split()\n",
    "\n",
    "# replace newline with html newline tag\n",
    "so.QBody = so.QBody.str.replace(\"\\\\n+\", \"<br>\", regex=True)\n",
    "so.Body = so.Body.str.replace(\"\\\\n+\", \"<br>\", regex=True)"
   ]
  },
  {
   "cell_type": "code",
   "execution_count": null,
   "metadata": {},
   "outputs": [],
   "source": [
    "so.head()"
   ]
  },
  {
   "cell_type": "code",
   "execution_count": null,
   "metadata": {},
   "outputs": [],
   "source": [
    "so.tail()"
   ]
  },
  {
   "cell_type": "code",
   "execution_count": null,
   "metadata": {},
   "outputs": [],
   "source": [
    "so.Tags.explode(ignore_index=True).value_counts().head(20)"
   ]
  },
  {
   "cell_type": "code",
   "execution_count": null,
   "metadata": {},
   "outputs": [],
   "source": [
    "# sort by ViewCount\n",
    "# so = so.sort_values(['ViewCount'], ascending=False)  # ['Accepted', 'Score', 'ViewCount']  \n",
    "# so.head(100)"
   ]
  },
  {
   "cell_type": "code",
   "execution_count": null,
   "metadata": {},
   "outputs": [],
   "source": [
    "# sort by Accepted and CreationDate\n",
    "# so = so.sort_values(['Accepted', 'CreationDate'], ascending=False).reset_index(drop=True)\n",
    "# so.head(100)"
   ]
  },
  {
   "cell_type": "code",
   "execution_count": null,
   "metadata": {},
   "outputs": [],
   "source": [
    "# various filters for search the Body of the answer\n",
    "son = so[so.Body.str.lower().str.contains('bar_label', regex=False)]\n",
    "# son = son[son.Body.str.lower().str.contains('year', regex=False)]\n",
    "# son = son[son.Body.str.lower().str.contains('.plot', regex=False)]\n",
    "# son = son[~son.Body.str.lower().str.contains('bar', regex=False)]\n",
    "son"
   ]
  },
  {
   "cell_type": "code",
   "execution_count": null,
   "metadata": {},
   "outputs": [],
   "source": [
    "so = so.drop(columns=['Body', 'QBody', 'Question Link', 'QID'])  # drop Body or the html will be a mess"
   ]
  },
  {
   "cell_type": "code",
   "execution_count": null,
   "metadata": {},
   "outputs": [],
   "source": [
    "so.to_html('../trenton3983.github.io/files/so_answers_new.html', justify='center', index=False, escape=False)  # html to a file"
   ]
  },
  {
   "cell_type": "code",
   "execution_count": null,
   "metadata": {},
   "outputs": [],
   "source": [
    "so.to_html('so_answers_body.html', columns=['QBody', 'Body'], justify='left', index=False, escape=False)"
   ]
  },
  {
   "cell_type": "code",
   "execution_count": null,
   "metadata": {},
   "outputs": [],
   "source": [
    "HTML(so.head(1).to_html(escape=False, columns=['Body']).replace(\"\\\\n\",\"<br>\"))  # html displayed in notebook"
   ]
  },
  {
   "cell_type": "markdown",
   "metadata": {},
   "source": [
    "## Print Title and Link\n",
    "\n",
    "- For adding links into SO answer"
   ]
  },
  {
   "cell_type": "code",
   "execution_count": null,
   "metadata": {},
   "outputs": [],
   "source": [
    "so['Link'] = so['ID'].apply(lambda x: f\"https://stackoverflow.com/questions/{x}\")"
   ]
  },
  {
   "cell_type": "code",
   "execution_count": null,
   "metadata": {},
   "outputs": [],
   "source": [
    "so.head()"
   ]
  },
  {
   "cell_type": "code",
   "execution_count": null,
   "metadata": {},
   "outputs": [],
   "source": [
    "so.iloc[0, -1]"
   ]
  },
  {
   "cell_type": "code",
   "execution_count": null,
   "metadata": {},
   "outputs": [],
   "source": [
    "son = so[so.Body.str.lower().str.contains('bar_label', regex=False)]"
   ]
  },
  {
   "cell_type": "code",
   "execution_count": null,
   "metadata": {},
   "outputs": [],
   "source": [
    "for i, v in enumerate(son.Title, 1):\n",
    "    print(f'- [{v}][ex{i}]')\n",
    "    \n",
    "for i, v in enumerate(son.Link, 1):\n",
    "    print(f'  [ex{i}]: {v}')"
   ]
  },
  {
   "cell_type": "markdown",
   "metadata": {},
   "source": [
    "## Add head.html file to body html"
   ]
  },
  {
   "cell_type": "code",
   "execution_count": null,
   "metadata": {},
   "outputs": [],
   "source": [
    "def insert_html_head(row):\n",
    "    title, body, date = row\n",
    "\n",
    "    # path to files directory\n",
    "    files = Path(r'D:\\users\\trenton\\Dropbox\\PythonProjects\\trenton3983.github.io\\files')\n",
    "    # path to so_answers directory\n",
    "    so_answers = files / 'so_answers'\n",
    "    # contents of head.html\n",
    "    html = BeautifulSoup((files / 'so_answers_head.html').read_text())\n",
    "\n",
    "    head = html.find('head')\n",
    "    body = BeautifulSoup(body).find('body')\n",
    "    head.insert_after(body)\n",
    "\n",
    "    # change the title\n",
    "    _ = html.find('title').string.replace_with(title)\n",
    "\n",
    "    # new file title\n",
    "    file_title = str(date) + '_' + re.sub('[^A-Za-z0-9 ]+', '', title).replace(' ', '_').lower() + '.html'\n",
    "\n",
    "    # write file\n",
    "    (so_answers / file_title).open('w').write(str(html))"
   ]
  },
  {
   "cell_type": "code",
   "execution_count": null,
   "metadata": {},
   "outputs": [],
   "source": [
    "_ = so[['Title', 'Body', 'CreationDate']].head(3).apply(insert_html_head, axis=1)"
   ]
  },
  {
   "cell_type": "markdown",
   "metadata": {},
   "source": [
    "## To Markdown File"
   ]
  },
  {
   "cell_type": "code",
   "execution_count": null,
   "metadata": {},
   "outputs": [],
   "source": [
    "so = so.drop(columns=['Tags'])"
   ]
  },
  {
   "cell_type": "code",
   "execution_count": null,
   "metadata": {},
   "outputs": [],
   "source": [
    "so = so[['Score', 'Accepted', 'Answer Link']].sort_values('Score', ascending=False)"
   ]
  },
  {
   "cell_type": "code",
   "execution_count": null,
   "metadata": {},
   "outputs": [],
   "source": [
    "so.head()"
   ]
  },
  {
   "cell_type": "code",
   "execution_count": null,
   "metadata": {},
   "outputs": [],
   "source": [
    "# Convert DataFrame to Markdown\n",
    "markdown_str = so.to_markdown(index=False)\n",
    "\n",
    "# Save markdown string to a file\n",
    "file_path = r'D:\\users\\trenton\\Dropbox\\PythonProjects\\trenton3983.github.io\\assets\\misc\\so-answers-created.md'  # Specify your file name here\n",
    "with open(file_path, 'w') as file:\n",
    "    file.write(markdown_str)"
   ]
  },
  {
   "cell_type": "code",
   "execution_count": null,
   "metadata": {},
   "outputs": [],
   "source": []
  }
 ],
 "metadata": {
  "kernelspec": {
   "display_name": "py312",
   "language": "python",
   "name": "py312"
  },
  "language_info": {
   "codemirror_mode": {
    "name": "ipython",
    "version": 3
   },
   "file_extension": ".py",
   "mimetype": "text/x-python",
   "name": "python",
   "nbconvert_exporter": "python",
   "pygments_lexer": "ipython3",
   "version": "3.12.0"
  }
 },
 "nbformat": 4,
 "nbformat_minor": 4
}
