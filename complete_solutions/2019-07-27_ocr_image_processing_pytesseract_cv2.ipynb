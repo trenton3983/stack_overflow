{
 "cells": [
  {
   "cell_type": "markdown",
   "metadata": {},
   "source": [
    "- **For [stackoverflow](https://stackoverflow.com) issue [Improving Text Recognition in the Presence of Overlay Lines](https://stackoverflow.com/q/57183997/7758804)**\n",
    "- It's best to create a new environment based on OpenCV, which has some specific version dependencies.\n",
    "  - `conda create -n cv python opencv pytesseract numpy matplotlib pillow` for Anaconda.\n",
    "- Required Packages\n",
    "  - https://github.com/UB-Mannheim/tesseract/wiki\n",
    "  - https://anaconda.org/conda-forge/pytesseract\n",
    "  - https://github.com/python-pillow/Pillow\n",
    "  - https://anaconda.org/conda-forge/opencv\n",
    "  - https://sourceforge.net/projects/opencvlibrary/files/\n",
    "    - Make sure the system path has an entry for `\\opencv\\build\\...\\vc#\\bin`"
   ]
  },
  {
   "cell_type": "code",
   "execution_count": null,
   "metadata": {},
   "outputs": [],
   "source": [
    "from PIL import Image\n",
    "import pytesseract\n",
    "import cv2\n",
    "import numpy as np\n",
    "from matplotlib import pyplot as plt\n",
    "from pathlib import Path"
   ]
  },
  {
   "cell_type": "code",
   "execution_count": null,
   "metadata": {},
   "outputs": [],
   "source": [
    "print(f\"PIL: {Image.__version__}\")\n",
    "print(f\"pytesseract: {pytesseract.__version__}\")\n",
    "print(f\"opencv-python: {cv2.__version__}\")\n",
    "print(f\"Numpy: {np.__version__}\")"
   ]
  },
  {
   "cell_type": "code",
   "execution_count": null,
   "metadata": {
    "editable": true,
    "slideshow": {
     "slide_type": ""
    },
    "tags": []
   },
   "outputs": [],
   "source": [
    "pytesseract.pytesseract.tesseract_cmd = \"C:/Program Files/Tesseract-OCR/tesseract.exe\""
   ]
  },
  {
   "cell_type": "code",
   "execution_count": null,
   "metadata": {},
   "outputs": [],
   "source": [
    "data = Path.cwd().parent / 'data'"
   ]
  },
  {
   "cell_type": "code",
   "execution_count": null,
   "metadata": {},
   "outputs": [],
   "source": [
    "img_original = Image.open(data / '0244R.jpg')\n",
    "img_new = Image.open(data / '0244R_clean.jpg')\n",
    "imgs = [img_original, img_new]"
   ]
  },
  {
   "cell_type": "markdown",
   "metadata": {},
   "source": [
    "# OCR Without Image Processing"
   ]
  },
  {
   "cell_type": "code",
   "execution_count": null,
   "metadata": {},
   "outputs": [],
   "source": [
    "img_original"
   ]
  },
  {
   "cell_type": "code",
   "execution_count": null,
   "metadata": {},
   "outputs": [],
   "source": [
    "img_new"
   ]
  },
  {
   "cell_type": "code",
   "execution_count": null,
   "metadata": {},
   "outputs": [],
   "source": [
    "# Example of setting OCR engine configuration options\n",
    "custom_config = r'--oem 3 --psm 6'  # Example configuration options\n",
    "\n",
    "for img in imgs:\n",
    "    print(f'OCR Result: {pytesseract.image_to_string(img, config=custom_config)}\\n')"
   ]
  },
  {
   "cell_type": "markdown",
   "metadata": {},
   "source": [
    "The following [answer](https://stackoverflow.com/a/57229344/7758804) does not produce the correct result."
   ]
  },
  {
   "cell_type": "code",
   "execution_count": null,
   "metadata": {},
   "outputs": [],
   "source": [
    "image = cv2.imread(str(data / '0244R.jpg'))\n",
    "gray = cv2.cvtColor(image, cv2.COLOR_BGR2GRAY)\n",
    "ret, threshold = cv2.threshold(gray,55, 255, cv2.THRESH_BINARY)\n",
    "print(pytesseract.image_to_string(threshold))"
   ]
  },
  {
   "cell_type": "markdown",
   "metadata": {},
   "source": [
    "# Incorporate Image Processing"
   ]
  },
  {
   "cell_type": "markdown",
   "metadata": {},
   "source": [
    "[Improve Accuracy of OCR using Image Preprocessing](https://medium.com/cashify-engineering/improve-accuracy-of-ocr-using-image-preprocessing-8df29ec3a033)"
   ]
  },
  {
   "cell_type": "markdown",
   "metadata": {},
   "source": [
    "Explanation:\n",
    "1. **Binary Thresholding (Step 1)**:\n",
    "   - The input image (`img`) is thresholded using a fixed threshold value of 88.\n",
    "   - Pixels with intensity greater than or equal to 88 are set to 255 (white), and pixels below 88 are set to 0 (black).\n",
    "   - This step simplifies the image into a binary representation.\n",
    "\n",
    "2. **Otsu's Thresholding (Step 2)**:\n",
    "   - Otsu's method automatically determines an optimal threshold value based on the image histogram.\n",
    "   - It aims to minimize the intra-class variance within the foreground (text) and background regions.\n",
    "   - The result (`th2`) is a further refined binary image.\n",
    "\n",
    "3. **Gaussian Blurring (Step 3)**:\n",
    "   - Gaussian blurring is applied to reduce noise and smooth the image.\n",
    "   - A 5x5 Gaussian kernel is used to convolve with the binary image (`th2`).\n",
    "   - The output (`blur`) is a less noisy version of the binary image.\n",
    "\n",
    "4. **Final Otsu's Thresholding (Step 4)**:\n",
    "   - Another Otsu's thresholding is applied to the blurred image (`blur`).\n",
    "   - This step fine-tunes the binary representation, emphasizing text regions while minimizing noise.\n",
    "   - The result (`th3`) is the smoothed image.\n",
    "\n",
    "The `image_smoothen` function combines these steps to enhance the clarity of text regions in the input image. Adjusting the threshold values and kernel size may further optimize the results based on specific use cases."
   ]
  },
  {
   "cell_type": "code",
   "execution_count": null,
   "metadata": {},
   "outputs": [],
   "source": [
    "def image_smoothen(img):\n",
    "    # Step 1: Apply binary thresholding to the input image\n",
    "    ret1, th1 = cv2.threshold(img, 88, 255, cv2.THRESH_BINARY)\n",
    "\n",
    "    # Step 2: Apply Otsu's thresholding to further enhance the binary image\n",
    "    ret2, th2 = cv2.threshold(th1, 0, 255, cv2.THRESH_BINARY + cv2.THRESH_OTSU)\n",
    "\n",
    "    # Step 3: Perform Gaussian blurring to reduce noise\n",
    "    blur = cv2.GaussianBlur(th2, (5, 5), 0)\n",
    "\n",
    "    # Step 4: Apply another Otsu's thresholding to obtain the final smoothed image\n",
    "    ret3, th3 = cv2.threshold(blur, 0, 255, cv2.THRESH_BINARY + cv2.THRESH_OTSU)\n",
    "\n",
    "    return th3"
   ]
  },
  {
   "cell_type": "markdown",
   "metadata": {},
   "source": [
    "Explanation:\n",
    "1. **Reading the Image**: The function reads the image specified by the `file_name` parameter in grayscale mode (`0`). Grayscale images have a single channel representing intensity (brightness) rather than color.\n",
    "\n",
    "2. **Adaptive Thresholding**: Adaptive thresholding is applied to the grayscale image (`img`). It dynamically adjusts the threshold value based on local pixel neighborhoods. This helps filter out noise and enhance text regions.\n",
    "\n",
    "3. **Morphological Opening**: Morphological opening is performed using the `kernel`. Opening removes small noise regions (small white spots) by eroding and then dilating the image. It helps clean up the text regions.\n",
    "\n",
    "4. **Morphological Closing**: Morphological closing is also performed using the same `kernel`. Closing fills gaps in text regions (small black holes) by dilating and then eroding the image.\n",
    "\n",
    "5. **Custom Smoothening**: The `image_smoothen` function (not shown here) further smoothes the image. This step likely involves additional filtering or blurring techniques to improve text clarity.\n",
    "\n",
    "6. **Bitwise OR Operation**: The final result is obtained by combining the smoothened image (`img`) with the closing result using a bitwise OR operation. This ensures that both text regions and gaps are preserved.\n",
    "\n",
    "Remember to replace the `image_smoothen` function with its actual implementation, as it's not defined in the provided code snippet. Additionally, consider adding comments within the `image_smoothen` function to explain its purpose and any specific techniques used."
   ]
  },
  {
   "cell_type": "code",
   "execution_count": null,
   "metadata": {},
   "outputs": [],
   "source": [
    "def remove_noise_and_smooth(file_name):\n",
    "    # Read the image from the specified file path in grayscale mode\n",
    "    img = cv2.imread(file_name, 0)\n",
    "\n",
    "    # Apply adaptive thresholding to filter out noise and enhance text visibility\n",
    "    filtered = cv2.adaptiveThreshold(img, 255, cv2.ADAPTIVE_THRESH_MEAN_C, cv2.THRESH_BINARY, 9, 41)\n",
    "\n",
    "    # Define a kernel for morphological operations (erosion and dilation)\n",
    "    kernel = np.ones((1, 1), np.uint8)\n",
    "\n",
    "    # Perform morphological opening to remove small noise regions\n",
    "    opening = cv2.morphologyEx(filtered, cv2.MORPH_OPEN, kernel)\n",
    "\n",
    "    # Perform morphological closing to fill gaps in text regions\n",
    "    closing = cv2.morphologyEx(opening, cv2.MORPH_CLOSE, kernel)\n",
    "\n",
    "    # Further smoothen the image using a custom function (image_smoothen)\n",
    "    img = image_smoothen(img)\n",
    "\n",
    "    # Combine the smoothened image with the closing result using bitwise OR\n",
    "    or_image = cv2.bitwise_or(img, closing)\n",
    "\n",
    "    return or_image"
   ]
  },
  {
   "cell_type": "markdown",
   "metadata": {},
   "source": [
    "[OpenCV: Simple Thresholding](https://docs.opencv.org/3.3.0/d7/d4d/tutorial_py_thresholding.html)\n",
    "\n",
    "These options are not used, because they do not result in successful OCR\n",
    "\n",
    "```python\n",
    "not_used_thresh = [cv2.THRESH_BINARY_INV, cv2.THRESH_TOZERO_INV]\n",
    "```\n",
    "\n",
    "The function `cv2.threshold()` is used to apply a threshold to an image. Here's an explanation of each parameter:\n",
    "\n",
    "- `img`: This is the input image, which should be a single-channel grayscale image.\n",
    "  \n",
    "- `127`: This is the threshold value. Pixels with intensity values less than or equal to this threshold are set to 0 (black), and pixels with intensity values greater than this threshold are set to 255 (white).\n",
    "\n",
    "- `255`: This is the maximum intensity value that pixels can be set to after applying the threshold.\n",
    "\n",
    "- `item`: This parameter specifies the type of thresholding to apply. It can take different values like `cv2.THRESH_BINARY`, `cv2.THRESH_TRUNC`, or `cv2.THRESH_TOZERO`, which determine how the thresholding operation is performed. \n",
    "\n",
    "In the given context, `item` is a variable representing different thresholding techniques, and `cv2.threshold()` is being called with this variable to apply various thresholding techniques to the input image `img`."
   ]
  },
  {
   "cell_type": "code",
   "execution_count": null,
   "metadata": {
    "editable": true,
    "slideshow": {
     "slide_type": ""
    },
    "tags": []
   },
   "outputs": [],
   "source": [
    "# List of thresholding techniques\n",
    "cv2_thresh_list = [cv2.THRESH_BINARY, cv2.THRESH_TRUNC, cv2.THRESH_TOZERO]\n",
    "\n",
    "# Custom configuration for Tesseract OCR\n",
    "custom_config = r'--oem 3 --psm 6'\n",
    "\n",
    "# Path to the image file\n",
    "data = Path.cwd().parent / 'data'\n",
    "fn = str(data / '0244R.jpg')\n",
    "\n",
    "# Define image types\n",
    "img_types = {'Preprocessed Image': remove_noise_and_smooth(fn),\n",
    "             'Unprocessed Image': cv2.imread(fn, 0)}\n",
    "\n",
    "# Process each image type\n",
    "for img_type, img in img_types.items():\n",
    "    print(img_type)\n",
    "    for item in cv2_thresh_list:\n",
    "        print(f'Thresh: {item}')\n",
    "        _, thresh = cv2.threshold(img, 127, 255, item)\n",
    "        plt.imshow(thresh, 'gray')\n",
    "        f_name = f'{img_type}_{item}.jpg'\n",
    "        plt.savefig(f_name, bbox_inches='tight')\n",
    "        plt.show()\n",
    "\n",
    "        # Perform OCR on the thresholded image\n",
    "        ocr_result = pytesseract.image_to_string(thresh, config=custom_config)\n",
    "        print(f'OCR Result: {ocr_result}\\n')\n",
    "        plt.close()"
   ]
  }
 ],
 "metadata": {
  "kernelspec": {
   "display_name": "cv",
   "language": "python",
   "name": "cv"
  },
  "language_info": {
   "codemirror_mode": {
    "name": "ipython",
    "version": 3
   },
   "file_extension": ".py",
   "mimetype": "text/x-python",
   "name": "python",
   "nbconvert_exporter": "python",
   "pygments_lexer": "ipython3",
   "version": "3.12.3"
  }
 },
 "nbformat": 4,
 "nbformat_minor": 4
}
